{
 "cells": [
  {
   "cell_type": "code",
   "execution_count": 45,
   "metadata": {
    "collapsed": true
   },
   "outputs": [],
   "source": [
    "import requests\n",
    "import json\n",
    "from shop.models import Post, Tag, Rating\n",
    "import os\n",
    "from urllib.request import urlretrieve\n",
    "from django.core.files import File\n",
    "from bs4 import BeautifulSoup\n",
    "\n",
    "def crawling_data(q):\n",
    "    res_list =[]\n",
    "    i = 1\n",
    "    url = \"https://m.store.naver.com/sogum/api/businesses\"\n",
    "\n",
    "\n",
    "    for k in range(0, 1):\n",
    "        params = {\n",
    "            'query': q,\n",
    "            'start' : i,\n",
    "            'display': 10,\n",
    "        }\n",
    "\n",
    "        html = requests.get(url, params = params).text\n",
    "        json_html = json.loads(html)\n",
    "        items = json_html['items']\n",
    "\n",
    "        if items not in res_list:\n",
    "            res_list.extend(items)\n",
    "            i = i + 20\n",
    "\n",
    "        else:\n",
    "            break\n",
    "\n",
    "        res_info = []\n",
    "        res_basic_dic = {}\n",
    "\n",
    "        for res_id in res_list:\n",
    "            temp_list = []\n",
    "            lnglat_set = (res_id['x'], res_id['y'])\n",
    "            temp_list.append(lnglat_set)\n",
    "            temp_list.append(res_id['category'])\n",
    "            res_basic_dic[res_id['id']] = temp_list\n",
    "\n",
    "\n",
    "        detail_contents_list  = []\n",
    "        for res in res_basic_dic.keys():\n",
    "            detail_url = 'https://m.store.naver.com/restaurants/detail'\n",
    "            detail_params= {\n",
    "                'id': res,\n",
    "            }\n",
    "\n",
    "            detail_html = requests.get(detail_url, params = detail_params).text\n",
    "            bs_obj = BeautifulSoup(detail_html, 'html.parser')\n",
    "            content_dict = {}\n",
    "            try:\n",
    "                content_dict['lnglat'] = str(res_basic_dic[res][0]).replace('(','').replace(')','').replace(\"'\", '')\n",
    "                content_dict['tag'] = str(res_basic_dic[res][1]).replace('[','').replace(']','').strip()\n",
    "                content_dict['title'] = bs_obj.select('.biz_name')[0].text\n",
    "                content_dict['address'] = bs_obj.select('.addr')[0].text\n",
    "                content_dict['phone_number'] = bs_obj.select('.btn_tel')[0]['href']\n",
    "                content_dict['avail_time'] = bs_obj.select('.txt > span')[4].text\n",
    "\n",
    "            \n",
    "\n",
    "                menu_list = bs_obj.select('.menu  .menu_area span')\n",
    "                menu_dict = {}\n",
    "                for i in menu_list:\n",
    "                    if i.text == '대표':\n",
    "                        continue\n",
    "                    menu_dict[i.text] = None\n",
    "\n",
    "                price_list = bs_obj.select('.menu  li em')\n",
    "                price_list_numbers = []\n",
    "\n",
    "                i = 0\n",
    "                for key in menu_dict.keys():\n",
    "                    price = price_list[i].text\n",
    "                    menu_dict[key] = price\n",
    "                    price_list_numbers.append(price)\n",
    "                    i = i+1\n",
    "\n",
    "                import string\n",
    "                import math\n",
    "\n",
    "                # Thanks to Martijn Pieters for this improved version\n",
    "\n",
    "                # This uses the 3-argument version of str.maketrans\n",
    "                # with arguments (x, y, z) where 'x' and 'y'\n",
    "                # must be equal-length strings and characters in 'x'\n",
    "                # are replaced by characters in 'y'. 'z'\n",
    "                # is a string (string.punctuation here)\n",
    "                # where each character in the string is mapped\n",
    "                # to None\n",
    "                translator = str.maketrans('', '', string.punctuation)\n",
    "\n",
    "                # This is an alternative that creates a dictionary mapping\n",
    "                # of every character from string.punctuation to None (this will\n",
    "                # also work)\n",
    "                #translator = str.maketrans(dict.fromkeys(string.punctuation))\n",
    "\n",
    "                s = 'string with \"punctuation\" inside of it! Does this work? I hope so.'\n",
    "\n",
    "                # pass the translator to the string's \n",
    "                print(s.translate(translator))\n",
    "\n",
    "                print(price_list_numbers)\n",
    "                sum = 0\n",
    "                for i in price_list_numbers:\n",
    "                    temp = i[0:len(i)-1]\n",
    "                    sum += math.floor(int(temp.translate(translator)))\n",
    "\n",
    "                avg_price = math.floor(sum/len(price_list_numbers))\n",
    "                #print(avg_price)\n",
    "\n",
    "                menu_str = str(menu_dict)\n",
    "                menu_str_strip = menu_str[1:len(menu_str)-1]\n",
    "                content_dict['menu'] = menu_str_strip\n",
    "                content_dict['avg_price'] = avg_price\n",
    "\n",
    "            except:\n",
    "                print(\"one of lgnlat, tag, title, address, phone_number, avail_time, menu, avg_price error!\")\n",
    "\n",
    "            try:\n",
    "                contents_str= bs_obj.select('.info .ellipsis_area')[0].text\n",
    "                contents_str_strip = contents_str[0:len(contents_str)-2]\n",
    "                content_dict['content'] = contents_str_strip.strip()\n",
    "            except:\n",
    "                print('Error! during contents!')\n",
    "            try:\n",
    "                img_src = str(bs_obj.select('div._flick-ct')[0])\n",
    "                src_start_idx = img_src.find('https://')\n",
    "                src_end_idx = img_src.find('&')\n",
    "                img_src = img_src[src_start_idx:src_end_idx]\n",
    "                #print(img_src)\n",
    "                content_dict['img_src'] = img_src\n",
    "            except:\n",
    "                print('Error! during image url..!')\n",
    "\n",
    "\n",
    "            res_info.append(content_dict)\n",
    "            res_info.append(avg_price)\n",
    "            break\n",
    "\n",
    "    return res_info\n",
    "\n"
   ]
  },
  {
   "cell_type": "code",
   "execution_count": 46,
   "metadata": {},
   "outputs": [
    {
     "name": "stdout",
     "output_type": "stream",
     "text": [
      "string with punctuation inside of it Does this work I hope so\n",
      "['38,500원', '3,000원', '3,000원']\n",
      "[{'lnglat': '127.0306598, 37.5672925', 'tag': '소고기구이', 'title': '대도식당 왕십리본점', 'address': '서울 성동구 무학로12길 3', 'phone_number': 'tel:02-2292-9772', 'avail_time': '매일 11:00 - 22:00 명절 휴무', 'menu': \"'한우 등심구이(200g)': '38,500원', '깍두기 볶음밥': '3,000원', '된장죽': '3,000원'\", 'avg_price': 14833, 'content': '1964년에 창업하여 50년간 맛과 전통을 지켜온 우리나라를 대표하는 등심 전문 식당,  대도식당의 왕십리 본점입니다.', 'img_src': 'https://search.pstatic.net/common/?src=http%3A%2F%2Fldb.phinf.naver.net%2F20151216_174%2F1450257845376z6n9R_JPEG%2F00_11679517_07.jpg'}, 14833]\n"
     ]
    }
   ],
   "source": [
    "print(crawling_data('왕십리맛집'))\n",
    "\n"
   ]
  },
  {
   "cell_type": "code",
   "execution_count": 27,
   "metadata": {},
   "outputs": [
    {
     "name": "stdout",
     "output_type": "stream",
     "text": [
      "['왕십리맛나곱창', 'https://s3.ap-northeast-2.amazonaws.com/eatcha/media/srchttp3A2F2Fldb.phinf.naver.net2F20160212_1652F14552039143543JlKj_JPEG2F17616240485306_UUaewYO.jpeg', 2]\n"
     ]
    }
   ],
   "source": [
    "a = Post.objects.filter(tag_set__location__icontains='왕십리')\n",
    "ordered = a.order_by('-score')\n",
    "response = ordered[1]\n",
    "img_url = 'https://s3.ap-northeast-2.amazonaws.com/eatcha' + response.image.url\n",
    "\n",
    "list = [response.title, img_url, response.id]\n",
    "print(list)\n",
    "\n"
   ]
  },
  {
   "cell_type": "code",
   "execution_count": 28,
   "metadata": {
    "collapsed": true
   },
   "outputs": [],
   "source": [
    "content = \"ㄴㄹㅇㄴㅇㄹ 서울대입구ㄴㅇㄹㄴㅇㄹ\"\n",
    "\n"
   ]
  },
  {
   "cell_type": "code",
   "execution_count": 4,
   "metadata": {},
   "outputs": [
    {
     "data": {
      "text/plain": [
       "True"
      ]
     },
     "execution_count": 4,
     "metadata": {},
     "output_type": "execute_result"
    }
   ],
   "source": [
    "'서울대' in content\n"
   ]
  },
  {
   "cell_type": "code",
   "execution_count": 29,
   "metadata": {
    "collapsed": true
   },
   "outputs": [],
   "source": [
    "from django.shortcuts import render, resolve_url\n"
   ]
  },
  {
   "cell_type": "code",
   "execution_count": 30,
   "metadata": {
    "collapsed": true
   },
   "outputs": [],
   "source": [
    "b = resolve_url('shop:detail', response.id)"
   ]
  },
  {
   "cell_type": "code",
   "execution_count": 31,
   "metadata": {},
   "outputs": [
    {
     "name": "stdout",
     "output_type": "stream",
     "text": [
      "/shop/post/2/\n"
     ]
    }
   ],
   "source": [
    "print(b)"
   ]
  },
  {
   "cell_type": "code",
   "execution_count": 44,
   "metadata": {},
   "outputs": [
    {
     "name": "stdout",
     "output_type": "stream",
     "text": [
      "안녕베트남\n",
      "<class 'shop.models.Post'>\n",
      "<class 'shop.models.Tag'>\n",
      "서울대입구\n"
     ]
    }
   ],
   "source": [
    "a = Post.objects.all()\n",
    "print(a[0].title)\n",
    "print(type(a[0]))\n",
    "b = a[0].tag_set.all()\n",
    "c = b[0]\n",
    "print(type(c))\n",
    "print(c.location)"
   ]
  },
  {
   "cell_type": "code",
   "execution_count": 9,
   "metadata": {
    "collapsed": true
   },
   "outputs": [],
   "source": [
    "s = '만두, 치킨, 피자, 1000원'"
   ]
  },
  {
   "cell_type": "code",
   "execution_count": 6,
   "metadata": {
    "collapsed": true
   },
   "outputs": [],
   "source": [
    "def cut(string):\n",
    "    for i in string:\n",
    "        if i == ',':\n",
    "            print(index(i))\n",
    "        else:\n",
    "            pass\n",
    "        "
   ]
  },
  {
   "cell_type": "code",
   "execution_count": 7,
   "metadata": {},
   "outputs": [
    {
     "ename": "NameError",
     "evalue": "name 'index' is not defined",
     "output_type": "error",
     "traceback": [
      "\u001b[0;31m---------------------------------------------------------------------------\u001b[0m",
      "\u001b[0;31mNameError\u001b[0m                                 Traceback (most recent call last)",
      "\u001b[0;32m<ipython-input-7-f4bfe1cbea33>\u001b[0m in \u001b[0;36m<module>\u001b[0;34m()\u001b[0m\n\u001b[0;32m----> 1\u001b[0;31m \u001b[0mcut\u001b[0m\u001b[0;34m(\u001b[0m\u001b[0;34m'만두, 치킨, 피자, 1000원'\u001b[0m\u001b[0;34m)\u001b[0m\u001b[0;34m\u001b[0m\u001b[0m\n\u001b[0m",
      "\u001b[0;32m<ipython-input-6-805327997c2d>\u001b[0m in \u001b[0;36mcut\u001b[0;34m(string)\u001b[0m\n\u001b[1;32m      2\u001b[0m     \u001b[0;32mfor\u001b[0m \u001b[0mi\u001b[0m \u001b[0;32min\u001b[0m \u001b[0mstring\u001b[0m\u001b[0;34m:\u001b[0m\u001b[0;34m\u001b[0m\u001b[0m\n\u001b[1;32m      3\u001b[0m         \u001b[0;32mif\u001b[0m \u001b[0mi\u001b[0m \u001b[0;34m==\u001b[0m \u001b[0;34m','\u001b[0m\u001b[0;34m:\u001b[0m\u001b[0;34m\u001b[0m\u001b[0m\n\u001b[0;32m----> 4\u001b[0;31m             \u001b[0mprint\u001b[0m\u001b[0;34m(\u001b[0m\u001b[0mindex\u001b[0m\u001b[0;34m(\u001b[0m\u001b[0mi\u001b[0m\u001b[0;34m)\u001b[0m\u001b[0;34m)\u001b[0m\u001b[0;34m\u001b[0m\u001b[0m\n\u001b[0m\u001b[1;32m      5\u001b[0m         \u001b[0;32melse\u001b[0m\u001b[0;34m:\u001b[0m\u001b[0;34m\u001b[0m\u001b[0m\n\u001b[1;32m      6\u001b[0m             \u001b[0;32mpass\u001b[0m\u001b[0;34m\u001b[0m\u001b[0m\n",
      "\u001b[0;31mNameError\u001b[0m: name 'index' is not defined"
     ]
    }
   ],
   "source": [
    "cut('만두, 치킨, 피자, 1000원')"
   ]
  },
  {
   "cell_type": "code",
   "execution_count": 14,
   "metadata": {},
   "outputs": [
    {
     "name": "stdout",
     "output_type": "stream",
     "text": [
      "['만두', ' 치킨', ' 피자', ' 1000원']\n",
      "['만두', '치킨', '피자', '1000원']\n"
     ]
    }
   ],
   "source": [
    "mylist = s.split(',')\n",
    "new_list=[]\n",
    "for i in mylist:\n",
    "    new_list.append(i.strip())\n",
    "\n",
    "print(mylist)\n",
    "print(new_list)"
   ]
  },
  {
   "cell_type": "code",
   "execution_count": 38,
   "metadata": {},
   "outputs": [
    {
     "ename": "AttributeError",
     "evalue": "'QuerySet' object has no attribute 'tag_set'",
     "output_type": "error",
     "traceback": [
      "\u001b[0;31m---------------------------------------------------------------------------\u001b[0m",
      "\u001b[0;31mAttributeError\u001b[0m                            Traceback (most recent call last)",
      "\u001b[0;32m<ipython-input-38-03fd3e92f96c>\u001b[0m in \u001b[0;36m<module>\u001b[0;34m()\u001b[0m\n\u001b[1;32m      1\u001b[0m \u001b[0ma\u001b[0m \u001b[0;34m=\u001b[0m \u001b[0mPost\u001b[0m\u001b[0;34m.\u001b[0m\u001b[0mobjects\u001b[0m\u001b[0;34m.\u001b[0m\u001b[0mall\u001b[0m\u001b[0;34m(\u001b[0m\u001b[0;34m)\u001b[0m\u001b[0;34m.\u001b[0m\u001b[0morder_by\u001b[0m\u001b[0;34m(\u001b[0m\u001b[0;34m'-score'\u001b[0m\u001b[0;34m)\u001b[0m\u001b[0;34m[\u001b[0m\u001b[0;36m0\u001b[0m\u001b[0;34m:\u001b[0m\u001b[0;36m8\u001b[0m\u001b[0;34m]\u001b[0m\u001b[0;34m\u001b[0m\u001b[0m\n\u001b[0;32m----> 2\u001b[0;31m \u001b[0mb\u001b[0m \u001b[0;34m=\u001b[0m \u001b[0ma\u001b[0m\u001b[0;34m.\u001b[0m\u001b[0mtag_set\u001b[0m\u001b[0;34m.\u001b[0m\u001b[0mall\u001b[0m\u001b[0;34m(\u001b[0m\u001b[0;34m)\u001b[0m\u001b[0;34m[\u001b[0m\u001b[0;36m0\u001b[0m\u001b[0;34m]\u001b[0m\u001b[0;34m\u001b[0m\u001b[0m\n\u001b[0m\u001b[1;32m      3\u001b[0m \u001b[0;34m\u001b[0m\u001b[0m\n",
      "\u001b[0;31mAttributeError\u001b[0m: 'QuerySet' object has no attribute 'tag_set'"
     ]
    }
   ],
   "source": [
    "a = Post.objects.all().order_by('-score')[0:8]\n",
    "b = a.tag_set.all()[0]\n",
    "\n"
   ]
  },
  {
   "cell_type": "code",
   "execution_count": 39,
   "metadata": {},
   "outputs": [
    {
     "name": "stdout",
     "output_type": "stream",
     "text": [
      "왕십리통골뱅이\n"
     ]
    }
   ],
   "source": [
    "\n",
    "print(b.title)"
   ]
  },
  {
   "cell_type": "code",
   "execution_count": 42,
   "metadata": {},
   "outputs": [
    {
     "name": "stdout",
     "output_type": "stream",
     "text": [
      "왕십리통골뱅이\n",
      "<class 'shop.models.Post'>\n",
      "미노루\n",
      "<class 'shop.models.Post'>\n",
      "조개창고\n",
      "<class 'shop.models.Post'>\n",
      "무한장어 왕십리점\n",
      "<class 'shop.models.Post'>\n",
      "리사르커피\n",
      "<class 'shop.models.Post'>\n",
      "쏠트앤페퍼\n",
      "<class 'shop.models.Post'>\n",
      "왕십리원조황소곱창\n",
      "<class 'shop.models.Post'>\n",
      "고래감자탕 왕십리점\n",
      "<class 'shop.models.Post'>\n"
     ]
    }
   ],
   "source": [
    "for i in a:\n",
    "    print(i.title)\n",
    "    print(type(i))"
   ]
  },
  {
   "cell_type": "code",
   "execution_count": 45,
   "metadata": {
    "collapsed": true
   },
   "outputs": [],
   "source": [
    "assd= Post.objects.filter(tag_set__location__icontains='왕십리').order_by('-score')\n"
   ]
  },
  {
   "cell_type": "code",
   "execution_count": 44,
   "metadata": {},
   "outputs": [
    {
     "data": {
      "text/plain": [
       "<Post: 제일곱창>"
      ]
     },
     "execution_count": 44,
     "metadata": {},
     "output_type": "execute_result"
    }
   ],
   "source": [
    "assd[0]"
   ]
  },
  {
   "cell_type": "code",
   "execution_count": 46,
   "metadata": {},
   "outputs": [
    {
     "data": {
      "text/plain": [
       "<Post: 조개창고>"
      ]
     },
     "execution_count": 46,
     "metadata": {},
     "output_type": "execute_result"
    }
   ],
   "source": [
    "assd[1]"
   ]
  },
  {
   "cell_type": "code",
   "execution_count": 47,
   "metadata": {
    "collapsed": true
   },
   "outputs": [],
   "source": [
    "list = [\n",
    "{\"name\": \"Tom\", \"age\": 10},\n",
    "{\"name\": \"Mark\", \"age\": 5},\n",
    "{\"name\": \"Pam\", \"age\": 7}\n",
    "]"
   ]
  },
  {
   "cell_type": "code",
   "execution_count": 49,
   "metadata": {},
   "outputs": [
    {
     "ename": "TypeError",
     "evalue": "sequence item 0: expected str instance, dict found",
     "output_type": "error",
     "traceback": [
      "\u001b[0;31m---------------------------------------------------------------------------\u001b[0m",
      "\u001b[0;31mTypeError\u001b[0m                                 Traceback (most recent call last)",
      "\u001b[0;32m<ipython-input-49-a29b558b7b03>\u001b[0m in \u001b[0;36m<module>\u001b[0;34m()\u001b[0m\n\u001b[0;32m----> 1\u001b[0;31m \u001b[0mstring\u001b[0m \u001b[0;34m=\u001b[0m \u001b[0;34m\"\"\u001b[0m\u001b[0;34m.\u001b[0m\u001b[0mjoin\u001b[0m\u001b[0;34m(\u001b[0m\u001b[0mlist\u001b[0m\u001b[0;34m)\u001b[0m\u001b[0;34m\u001b[0m\u001b[0m\n\u001b[0m",
      "\u001b[0;31mTypeError\u001b[0m: sequence item 0: expected str instance, dict found"
     ]
    }
   ],
   "source": [
    "for i in list:\n",
    "    "
   ]
  },
  {
   "cell_type": "code",
   "execution_count": 51,
   "metadata": {},
   "outputs": [
    {
     "name": "stdout",
     "output_type": "stream",
     "text": [
      "[{'name': 'Tom', 'age': 10}, {'name': 'Mark', 'age': 5}, {'name': 'Pam', 'age': 7}]\n"
     ]
    }
   ],
   "source": [
    "print(list)"
   ]
  },
  {
   "cell_type": "code",
   "execution_count": 52,
   "metadata": {
    "collapsed": true
   },
   "outputs": [],
   "source": [
    "string = str(list)"
   ]
  },
  {
   "cell_type": "code",
   "execution_count": 53,
   "metadata": {},
   "outputs": [
    {
     "data": {
      "text/plain": [
       "\"[{'name': 'Tom', 'age': 10}, {'name': 'Mark', 'age': 5}, {'name': 'Pam', 'age': 7}]\""
      ]
     },
     "execution_count": 53,
     "metadata": {},
     "output_type": "execute_result"
    }
   ],
   "source": [
    "string\n"
   ]
  },
  {
   "cell_type": "code",
   "execution_count": 117,
   "metadata": {
    "collapsed": true
   },
   "outputs": [],
   "source": [
    "def to_string(final_shop_list):\n",
    "        string = \"\"\n",
    "        for i in final_shop_list:\n",
    "            string += str(i)[1:len(str(i))-1]\n",
    "            #print(i)\n",
    "            string += '\\n'\n",
    "        return string\n",
    "    "
   ]
  },
  {
   "cell_type": "code",
   "execution_count": 118,
   "metadata": {},
   "outputs": [
    {
     "name": "stdout",
     "output_type": "stream",
     "text": [
      "'name': 'Tom', 'age': 10\n",
      "'name': 'Mark', 'age': 5\n",
      "'name': 'Pam', 'age': 7\n",
      "\n"
     ]
    }
   ],
   "source": [
    "print(to_string(list))"
   ]
  },
  {
   "cell_type": "code",
   "execution_count": 88,
   "metadata": {},
   "outputs": [
    {
     "ename": "ValueError",
     "evalue": "too many values to unpack (expected 2)",
     "output_type": "error",
     "traceback": [
      "\u001b[0;31m---------------------------------------------------------------------------\u001b[0m",
      "\u001b[0;31mValueError\u001b[0m                                Traceback (most recent call last)",
      "\u001b[0;32m<ipython-input-88-b04d1f7b8fb2>\u001b[0m in \u001b[0;36m<module>\u001b[0;34m()\u001b[0m\n\u001b[0;32m----> 1\u001b[0;31m \u001b[0mto_string\u001b[0m\u001b[0;34m(\u001b[0m\u001b[0mlist\u001b[0m\u001b[0;34m)\u001b[0m\u001b[0;34m\u001b[0m\u001b[0m\n\u001b[0m",
      "\u001b[0;32m<ipython-input-86-c73fd0c1e82c>\u001b[0m in \u001b[0;36mto_string\u001b[0;34m(final_shop_list)\u001b[0m\n\u001b[1;32m      2\u001b[0m         \u001b[0mstring\u001b[0m \u001b[0;34m=\u001b[0m \u001b[0;34m\" \"\u001b[0m\u001b[0;34m\u001b[0m\u001b[0m\n\u001b[1;32m      3\u001b[0m         \u001b[0;32mfor\u001b[0m \u001b[0mi\u001b[0m \u001b[0;32min\u001b[0m \u001b[0mfinal_shop_list\u001b[0m\u001b[0;34m:\u001b[0m\u001b[0;34m\u001b[0m\u001b[0m\n\u001b[0;32m----> 4\u001b[0;31m             \u001b[0;32mfor\u001b[0m \u001b[0mk\u001b[0m\u001b[0;34m,\u001b[0m \u001b[0mv\u001b[0m \u001b[0;32min\u001b[0m \u001b[0mi\u001b[0m\u001b[0;34m:\u001b[0m\u001b[0;34m\u001b[0m\u001b[0m\n\u001b[0m\u001b[1;32m      5\u001b[0m                 \u001b[0mstring\u001b[0m \u001b[0;34m+=\u001b[0m \u001b[0mk\u001b[0m\u001b[0;34m\u001b[0m\u001b[0m\n\u001b[1;32m      6\u001b[0m                 \u001b[0mstring\u001b[0m \u001b[0;34m+=\u001b[0m \u001b[0mv\u001b[0m\u001b[0;34m\u001b[0m\u001b[0m\n",
      "\u001b[0;31mValueError\u001b[0m: too many values to unpack (expected 2)"
     ]
    }
   ],
   "source": [
    "to_string(list)"
   ]
  },
  {
   "cell_type": "code",
   "execution_count": 2,
   "metadata": {
    "collapsed": true
   },
   "outputs": [],
   "source": [
    "a = Post.objects.all().order_by('-score')[0]\n",
    "b = a.tag_set.all()[0]"
   ]
  },
  {
   "cell_type": "code",
   "execution_count": 3,
   "metadata": {},
   "outputs": [
    {
     "data": {
      "text/plain": [
       "int"
      ]
     },
     "execution_count": 3,
     "metadata": {},
     "output_type": "execute_result"
    }
   ],
   "source": [
    "type(a.score)"
   ]
  },
  {
   "cell_type": "code",
   "execution_count": 4,
   "metadata": {},
   "outputs": [
    {
     "data": {
      "text/plain": [
       "50"
      ]
     },
     "execution_count": 4,
     "metadata": {},
     "output_type": "execute_result"
    }
   ],
   "source": [
    "a.score"
   ]
  },
  {
   "cell_type": "code",
   "execution_count": 10,
   "metadata": {},
   "outputs": [
    {
     "data": {
      "text/plain": [
       "'5.0점'"
      ]
     },
     "execution_count": 10,
     "metadata": {},
     "output_type": "execute_result"
    }
   ],
   "source": [
    "str(a.score/10) + '점'"
   ]
  },
  {
   "cell_type": "code",
   "execution_count": 12,
   "metadata": {},
   "outputs": [
    {
     "data": {
      "text/plain": [
       "'23500점'"
      ]
     },
     "execution_count": 12,
     "metadata": {},
     "output_type": "execute_result"
    }
   ],
   "source": [
    "str(b.avg_price) +'dnjs'"
   ]
  },
  {
   "cell_type": "code",
   "execution_count": 35,
   "metadata": {},
   "outputs": [
    {
     "name": "stdout",
     "output_type": "stream",
     "text": [
      "123,4567\n"
     ]
    }
   ],
   "source": [
    "string = \"1234567\"\n",
    "digit = 123456\n",
    "\n",
    "def insert_dash(string, index):\n",
    "    return string[:index] + ',' + string[index:]\n",
    "\n",
    "print(insert_dash(string,3))"
   ]
  },
  {
   "cell_type": "code",
   "execution_count": 36,
   "metadata": {
    "collapsed": true
   },
   "outputs": [],
   "source": [
    "def comma(num):\n",
    "    '''Add comma to every 3rd digit. Takes int or float and\n",
    "    returns string.'''\n",
    "    if type(num) == int:\n",
    "        return '{:,}'.format(num)\n",
    "    elif type(num) == float:\n",
    "        return '{:,.2f}'.format(num) # Rounds to 2 decimal places\n",
    "    else:\n",
    "        print(\"Need int or float as input to function comma()!\")"
   ]
  },
  {
   "cell_type": "code",
   "execution_count": 37,
   "metadata": {},
   "outputs": [],
   "source": [
    "a = comma(digit)"
   ]
  },
  {
   "cell_type": "code",
   "execution_count": 38,
   "metadata": {},
   "outputs": [
    {
     "name": "stdout",
     "output_type": "stream",
     "text": [
      "123,456\n"
     ]
    }
   ],
   "source": [
    "type(a)\n",
    "print(a)"
   ]
  },
  {
   "cell_type": "code",
   "execution_count": 44,
   "metadata": {
    "collapsed": true
   },
   "outputs": [],
   "source": [
    "a = Post.objects.all().order_by('-score')[0]\n",
    "b = a.tag_set.all()[0]"
   ]
  },
  {
   "cell_type": "code",
   "execution_count": 45,
   "metadata": {},
   "outputs": [],
   "source": [
    "c = comma(b.avg_price)"
   ]
  },
  {
   "cell_type": "code",
   "execution_count": 46,
   "metadata": {},
   "outputs": [
    {
     "data": {
      "text/plain": [
       "str"
      ]
     },
     "execution_count": 46,
     "metadata": {},
     "output_type": "execute_result"
    }
   ],
   "source": [
    "type(c)"
   ]
  },
  {
   "cell_type": "code",
   "execution_count": 47,
   "metadata": {},
   "outputs": [
    {
     "name": "stdout",
     "output_type": "stream",
     "text": [
      "23,500\n"
     ]
    }
   ],
   "source": [
    "print(c)"
   ]
  },
  {
   "cell_type": "code",
   "execution_count": 50,
   "metadata": {},
   "outputs": [],
   "source": [
    "c += \"원\""
   ]
  },
  {
   "cell_type": "code",
   "execution_count": 51,
   "metadata": {},
   "outputs": [
    {
     "name": "stdout",
     "output_type": "stream",
     "text": [
      "23,500원\n"
     ]
    }
   ],
   "source": [
    "print(c)"
   ]
  },
  {
   "cell_type": "code",
   "execution_count": 53,
   "metadata": {},
   "outputs": [
    {
     "name": "stdout",
     "output_type": "stream",
     "text": [
      "-12,345,672\n"
     ]
    },
    {
     "data": {
      "text/plain": [
       "-12345672"
      ]
     },
     "execution_count": 53,
     "metadata": {},
     "output_type": "execute_result"
    }
   ],
   "source": [
    "value = -12345672\n",
    "print (format (value, ',d'))\n"
   ]
  },
  {
   "cell_type": "code",
   "execution_count": 58,
   "metadata": {},
   "outputs": [
    {
     "name": "stdout",
     "output_type": "stream",
     "text": [
      "-123.456720\n"
     ]
    }
   ],
   "source": [
    "value = -123.45672\n",
    "print (format (value, ',f'))\n"
   ]
  },
  {
   "cell_type": "code",
   "execution_count": 61,
   "metadata": {
    "collapsed": true
   },
   "outputs": [],
   "source": [
    "def comma(num):\n",
    "        '''Add comma to every 3rd digit. Takes int or float and\n",
    "        returns string.'''\n",
    "        \n",
    "        if type(num) == int:\n",
    "            string = format(num, ',d')\n",
    "            return string\n",
    "        \n",
    "        else:\n",
    "            print(\"Need int as input to function comma()!\")"
   ]
  },
  {
   "cell_type": "code",
   "execution_count": 62,
   "metadata": {},
   "outputs": [
    {
     "data": {
      "text/plain": [
       "'12,345'"
      ]
     },
     "execution_count": 62,
     "metadata": {},
     "output_type": "execute_result"
    }
   ],
   "source": [
    "\n",
    "comma(12345)"
   ]
  },
  {
   "cell_type": "code",
   "execution_count": 65,
   "metadata": {},
   "outputs": [
    {
     "name": "stdout",
     "output_type": "stream",
     "text": [
      "{'title1': '[안암동/고려대학교]쌀떡으로 만든 떡볶이가 맛있는 \"유자유... ', 'content1': '2017.08.09 [삼선교/한성대입구]쌀떡으로 만든 떡볶이가 맛있는 \"유자유 김치떡볶이\" 시식후기 안녕하세요~지블리입니당~^^ 오늘은 얼마전 오래전부터 먹어보고싶었던 쌀떡으로 떡볶이를 만드는 김치떡볶이 맛집... ', 'link1': 'http://m.blog.naver.com/jibliworld/221070043573', 'title2': '고대 맛집 안암 술집]유자유김치떡볶이 야식 먹은 1NE♡', 'content2': '고대 맛집 안암 술집 유자유김치떡볶이 야식 먹은 1NE♡ 안녕하세요 웃님들 1NELOVE X JUNI 쭈니에요 오늘은 날씨가... 낮부터 기온이 뚝 떨어지고 일부는 비,눈이 온다고 하는데 분명 봄날씨였는데!!! 갑자기 이렇게... ', 'link2': 'http://m.blog.naver.com/1nelove/220663284777', 'title3': '고대/안암 맛집 유자유 김치떡볶이 ♥', 'content3': '유자유 김치떡볶이 @고대, 안암 유자유 김치떡볶이 서울 성북구 인촌로24길 47 **-***-**** 친구가 고대 앞에 아주 맛있는 집이 있다고 알려준 곳이에요. 성신여대쪽에서 밥을 먹은김에 고대 앞에 가서 이것도 한번 먹어보자며... ', 'link3': 'http://m.blog.naver.com/creator26/220826079848'}\n"
     ]
    }
   ],
   "source": [
    "import requests\n",
    "import json\n",
    "from shop.models import Post, Tag, Rating\n",
    "import os\n",
    "from urllib.request import urlretrieve\n",
    "from django.core.files import File\n",
    "from bs4 import BeautifulSoup\n",
    "\n",
    "detail_url = 'https://m.store.naver.com/restaurants/detail'\n",
    "detail_params= {\n",
    "    'id': 20470283,\n",
    "}\n",
    "\n",
    "detail_html = requests.get(detail_url, params = detail_params).text\n",
    "bs_obj = BeautifulSoup(detail_html, 'html.parser')\n",
    "\n",
    "blog_dict = {}\n",
    "\n",
    "blog_dict['title1'] =bs_obj.select('#content > div.sc_box.review > ul > li > a > div.info_area > div.tit.ellp2')[0].text\n",
    "blog_dict['content1'] =bs_obj.select('#content > div.sc_box.review > ul > li > a > div.info_area > div.txt')[0].text\n",
    "blog_dict['link1'] =bs_obj.select('#content > div.sc_box.review > ul > li > a')[0].get('href')\n",
    "blog_dict['title2'] =bs_obj.select('#content > div.sc_box.review > ul > li > a > div.info_area > div.tit.ellp2')[1].text\n",
    "blog_dict['content2'] =bs_obj.select('#content > div.sc_box.review > ul > li > a > div.info_area > div.txt')[1].text\n",
    "blog_dict['link2'] =bs_obj.select('#content > div.sc_box.review > ul > li > a')[1].get('href')\n",
    "blog_dict['title3'] =bs_obj.select('#content > div.sc_box.review > ul > li > a > div.info_area > div.tit.ellp2')[2].text\n",
    "blog_dict['content3'] =bs_obj.select('#content > div.sc_box.review > ul > li > a > div.info_area > div.txt')[2].text\n",
    "blog_dict['link3'] =bs_obj.select('#content > div.sc_box.review > ul > li > a')[2].get('href')\n",
    "\n",
    "print(blog_dict)\n"
   ]
  },
  {
   "cell_type": "code",
   "execution_count": null,
   "metadata": {
    "collapsed": true
   },
   "outputs": [],
   "source": []
  }
 ],
 "metadata": {
  "kernelspec": {
   "display_name": "Django Shell-Plus",
   "language": "python",
   "name": "django_extensions"
  },
  "language_info": {
   "codemirror_mode": {
    "name": "ipython",
    "version": 3
   },
   "file_extension": ".py",
   "mimetype": "text/x-python",
   "name": "python",
   "nbconvert_exporter": "python",
   "pygments_lexer": "ipython3",
   "version": "3.6.1"
  }
 },
 "nbformat": 4,
 "nbformat_minor": 2
}
